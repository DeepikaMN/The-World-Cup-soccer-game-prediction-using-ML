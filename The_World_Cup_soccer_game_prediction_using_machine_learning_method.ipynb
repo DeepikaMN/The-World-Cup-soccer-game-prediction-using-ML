{
  "nbformat": 4,
  "nbformat_minor": 0,
  "metadata": {
    "colab": {
      "provenance": []
    },
    "kernelspec": {
      "name": "python3",
      "display_name": "Python 3"
    },
    "language_info": {
      "name": "python"
    }
  },
  "cells": [
    {
      "cell_type": "markdown",
      "source": [
        "## Importing Required Libraries\n",
        "For this lab, we will be using the following libraries:\n",
        "*  pandas for managing the data.\n",
        "*  numpy for mathematical operations.\n",
        "*  sklearn for machine learning and machine-learning-pipeline related functions.\n",
        "*  seaborn for visualizing the data.\n",
        "*  matplotlib for additional plotting tools."
      ],
      "metadata": {
        "id": "UJiZ471X4DuL"
      }
    },
    {
      "cell_type": "code",
      "execution_count": 2,
      "metadata": {
        "id": "0lgdOn0M38FN"
      },
      "outputs": [],
      "source": [
        "import numpy as np\n",
        "import pandas as pd\n",
        "import matplotlib.pyplot as plt\n",
        "%matplotlib inline\n",
        "#The code, \"%matplotlib inline,\" is a command used in programming to make sure that any graphs or charts created with the matplotlib library are displayed directly in the output without any extra steps. It's like having a picture instantly show up on a screen without needing to open another program to see it.\n",
        "from sklearn.model_selection import train_test_split\n",
        "from sklearn.datasets import load_digits, load_wine\n",
        "from sklearn.model_selection import GridSearchCV\n",
        "from sklearn.neural_network import MLPClassifier\n",
        "from sklearn.metrics import accuracy_score"
      ]
    },
    {
      "cell_type": "markdown",
      "source": [
        "*MLPClassifier is a machine learning algorithm used for classification tasks. MLP stands for Multi-Layer Perceptron, which is a type of artificial neural network. This algorithm consists of multiple layers of nodes, with each node performing a weighted sum of inputs and passing the result through an activation function. The output of one layer is then used as input for the next layer until the final output is produced. The MLPClassifier is commonly used in supervised learning tasks, where the algorithm is trained on labeled data to predict the class label of new, unseen data.*"
      ],
      "metadata": {
        "id": "NA12lD8s7dim"
      }
    },
    {
      "cell_type": "markdown",
      "source": [
        "*GridSearchCV is a method used in machine learning to tune hyperparameters of a model by exhaustively searching over a specified parameter grid. It involves training and evaluating the model with each combination of hyperparameters in the grid, and selecting the combination that yields the best performance. This process can be computationally expensive, but it can lead to improved model performance and generalization.*"
      ],
      "metadata": {
        "id": "h84vbT2Xtw0J"
      }
    },
    {
      "cell_type": "markdown",
      "source": [
        "## Collect and Analyse the Data\n",
        "The following is all the national team game results in 2022. (from Kaggle https://www.kaggle.com/datasets/martj42/international-football-results-from-1872-to-2017)"
      ],
      "metadata": {
        "id": "FAS4dMlA78df"
      }
    },
    {
      "cell_type": "markdown",
      "source": [
        "Modified dataset ('https://cf-courses-data.s3.us.cloud-object-storage.appdomain.cloud/IND-GPXX0TUZEN/Training_games.csv')"
      ],
      "metadata": {
        "id": "Idpbe4jsIW0e"
      }
    },
    {
      "cell_type": "code",
      "source": [
        "path = 'https://cf-courses-data.s3.us.cloud-object-storage.appdomain.cloud/IND-GPXX0TUZEN/Training_games.csv'\n",
        "\n",
        "Game_all = pd.read_csv(path)\n",
        "Game_all.head()"
      ],
      "metadata": {
        "colab": {
          "base_uri": "https://localhost:8080/",
          "height": 206
        },
        "id": "8_-FiY3H70hh",
        "outputId": "5894087b-4155-4158-b47b-5b3fb3dcf824"
      },
      "execution_count": 3,
      "outputs": [
        {
          "output_type": "execute_result",
          "data": {
            "text/plain": [
              "   Unnamed: 0   home_team     away_team  home_score  away_score tournament  \\\n",
              "0  2022-01-02       Gabon  Burkina Faso         0.0         3.0   Friendly   \n",
              "1  2022-01-02       Sudan      Zimbabwe         0.0         0.0   Friendly   \n",
              "2  2022-01-03      Rwanda        Guinea         3.0         0.0   Friendly   \n",
              "3  2022-01-04  Mauritania         Gabon         1.0         1.0   Friendly   \n",
              "4  2022-01-05     Algeria         Ghana         3.0         0.0   Friendly   \n",
              "\n",
              "        city               country  neutral  \n",
              "0      Dubai  United Arab Emirates     True  \n",
              "1    Yaoundé              Cameroon     True  \n",
              "2     Kigali                Rwanda    False  \n",
              "3      Dubai  United Arab Emirates     True  \n",
              "4  Al Rayyan                 Qatar     True  "
            ],
            "text/html": [
              "\n",
              "  <div id=\"df-fc61ddf6-0239-450d-b7e3-3d6ba3b36264\">\n",
              "    <div class=\"colab-df-container\">\n",
              "      <div>\n",
              "<style scoped>\n",
              "    .dataframe tbody tr th:only-of-type {\n",
              "        vertical-align: middle;\n",
              "    }\n",
              "\n",
              "    .dataframe tbody tr th {\n",
              "        vertical-align: top;\n",
              "    }\n",
              "\n",
              "    .dataframe thead th {\n",
              "        text-align: right;\n",
              "    }\n",
              "</style>\n",
              "<table border=\"1\" class=\"dataframe\">\n",
              "  <thead>\n",
              "    <tr style=\"text-align: right;\">\n",
              "      <th></th>\n",
              "      <th>Unnamed: 0</th>\n",
              "      <th>home_team</th>\n",
              "      <th>away_team</th>\n",
              "      <th>home_score</th>\n",
              "      <th>away_score</th>\n",
              "      <th>tournament</th>\n",
              "      <th>city</th>\n",
              "      <th>country</th>\n",
              "      <th>neutral</th>\n",
              "    </tr>\n",
              "  </thead>\n",
              "  <tbody>\n",
              "    <tr>\n",
              "      <th>0</th>\n",
              "      <td>2022-01-02</td>\n",
              "      <td>Gabon</td>\n",
              "      <td>Burkina Faso</td>\n",
              "      <td>0.0</td>\n",
              "      <td>3.0</td>\n",
              "      <td>Friendly</td>\n",
              "      <td>Dubai</td>\n",
              "      <td>United Arab Emirates</td>\n",
              "      <td>True</td>\n",
              "    </tr>\n",
              "    <tr>\n",
              "      <th>1</th>\n",
              "      <td>2022-01-02</td>\n",
              "      <td>Sudan</td>\n",
              "      <td>Zimbabwe</td>\n",
              "      <td>0.0</td>\n",
              "      <td>0.0</td>\n",
              "      <td>Friendly</td>\n",
              "      <td>Yaoundé</td>\n",
              "      <td>Cameroon</td>\n",
              "      <td>True</td>\n",
              "    </tr>\n",
              "    <tr>\n",
              "      <th>2</th>\n",
              "      <td>2022-01-03</td>\n",
              "      <td>Rwanda</td>\n",
              "      <td>Guinea</td>\n",
              "      <td>3.0</td>\n",
              "      <td>0.0</td>\n",
              "      <td>Friendly</td>\n",
              "      <td>Kigali</td>\n",
              "      <td>Rwanda</td>\n",
              "      <td>False</td>\n",
              "    </tr>\n",
              "    <tr>\n",
              "      <th>3</th>\n",
              "      <td>2022-01-04</td>\n",
              "      <td>Mauritania</td>\n",
              "      <td>Gabon</td>\n",
              "      <td>1.0</td>\n",
              "      <td>1.0</td>\n",
              "      <td>Friendly</td>\n",
              "      <td>Dubai</td>\n",
              "      <td>United Arab Emirates</td>\n",
              "      <td>True</td>\n",
              "    </tr>\n",
              "    <tr>\n",
              "      <th>4</th>\n",
              "      <td>2022-01-05</td>\n",
              "      <td>Algeria</td>\n",
              "      <td>Ghana</td>\n",
              "      <td>3.0</td>\n",
              "      <td>0.0</td>\n",
              "      <td>Friendly</td>\n",
              "      <td>Al Rayyan</td>\n",
              "      <td>Qatar</td>\n",
              "      <td>True</td>\n",
              "    </tr>\n",
              "  </tbody>\n",
              "</table>\n",
              "</div>\n",
              "      <button class=\"colab-df-convert\" onclick=\"convertToInteractive('df-fc61ddf6-0239-450d-b7e3-3d6ba3b36264')\"\n",
              "              title=\"Convert this dataframe to an interactive table.\"\n",
              "              style=\"display:none;\">\n",
              "        \n",
              "  <svg xmlns=\"http://www.w3.org/2000/svg\" height=\"24px\"viewBox=\"0 0 24 24\"\n",
              "       width=\"24px\">\n",
              "    <path d=\"M0 0h24v24H0V0z\" fill=\"none\"/>\n",
              "    <path d=\"M18.56 5.44l.94 2.06.94-2.06 2.06-.94-2.06-.94-.94-2.06-.94 2.06-2.06.94zm-11 1L8.5 8.5l.94-2.06 2.06-.94-2.06-.94L8.5 2.5l-.94 2.06-2.06.94zm10 10l.94 2.06.94-2.06 2.06-.94-2.06-.94-.94-2.06-.94 2.06-2.06.94z\"/><path d=\"M17.41 7.96l-1.37-1.37c-.4-.4-.92-.59-1.43-.59-.52 0-1.04.2-1.43.59L10.3 9.45l-7.72 7.72c-.78.78-.78 2.05 0 2.83L4 21.41c.39.39.9.59 1.41.59.51 0 1.02-.2 1.41-.59l7.78-7.78 2.81-2.81c.8-.78.8-2.07 0-2.86zM5.41 20L4 18.59l7.72-7.72 1.47 1.35L5.41 20z\"/>\n",
              "  </svg>\n",
              "      </button>\n",
              "      \n",
              "  <style>\n",
              "    .colab-df-container {\n",
              "      display:flex;\n",
              "      flex-wrap:wrap;\n",
              "      gap: 12px;\n",
              "    }\n",
              "\n",
              "    .colab-df-convert {\n",
              "      background-color: #E8F0FE;\n",
              "      border: none;\n",
              "      border-radius: 50%;\n",
              "      cursor: pointer;\n",
              "      display: none;\n",
              "      fill: #1967D2;\n",
              "      height: 32px;\n",
              "      padding: 0 0 0 0;\n",
              "      width: 32px;\n",
              "    }\n",
              "\n",
              "    .colab-df-convert:hover {\n",
              "      background-color: #E2EBFA;\n",
              "      box-shadow: 0px 1px 2px rgba(60, 64, 67, 0.3), 0px 1px 3px 1px rgba(60, 64, 67, 0.15);\n",
              "      fill: #174EA6;\n",
              "    }\n",
              "\n",
              "    [theme=dark] .colab-df-convert {\n",
              "      background-color: #3B4455;\n",
              "      fill: #D2E3FC;\n",
              "    }\n",
              "\n",
              "    [theme=dark] .colab-df-convert:hover {\n",
              "      background-color: #434B5C;\n",
              "      box-shadow: 0px 1px 3px 1px rgba(0, 0, 0, 0.15);\n",
              "      filter: drop-shadow(0px 1px 2px rgba(0, 0, 0, 0.3));\n",
              "      fill: #FFFFFF;\n",
              "    }\n",
              "  </style>\n",
              "\n",
              "      <script>\n",
              "        const buttonEl =\n",
              "          document.querySelector('#df-fc61ddf6-0239-450d-b7e3-3d6ba3b36264 button.colab-df-convert');\n",
              "        buttonEl.style.display =\n",
              "          google.colab.kernel.accessAllowed ? 'block' : 'none';\n",
              "\n",
              "        async function convertToInteractive(key) {\n",
              "          const element = document.querySelector('#df-fc61ddf6-0239-450d-b7e3-3d6ba3b36264');\n",
              "          const dataTable =\n",
              "            await google.colab.kernel.invokeFunction('convertToInteractive',\n",
              "                                                     [key], {});\n",
              "          if (!dataTable) return;\n",
              "\n",
              "          const docLinkHtml = 'Like what you see? Visit the ' +\n",
              "            '<a target=\"_blank\" href=https://colab.research.google.com/notebooks/data_table.ipynb>data table notebook</a>'\n",
              "            + ' to learn more about interactive tables.';\n",
              "          element.innerHTML = '';\n",
              "          dataTable['output_type'] = 'display_data';\n",
              "          await google.colab.output.renderOutput(dataTable, element);\n",
              "          const docLink = document.createElement('div');\n",
              "          docLink.innerHTML = docLinkHtml;\n",
              "          element.appendChild(docLink);\n",
              "        }\n",
              "      </script>\n",
              "    </div>\n",
              "  </div>\n",
              "  "
            ]
          },
          "metadata": {},
          "execution_count": 3
        }
      ]
    },
    {
      "cell_type": "markdown",
      "source": [
        "To get a list of column names in the `Game_all` DataFrame, you can use the `columns` attribute of the DataFrame.\n",
        "This will print a list of column names in the `Game_all` DataFrame."
      ],
      "metadata": {
        "id": "ce9p9xA2o_y8"
      }
    },
    {
      "cell_type": "code",
      "source": [
        "column_list = Game_all.columns.tolist()\n",
        "print(column_list)"
      ],
      "metadata": {
        "colab": {
          "base_uri": "https://localhost:8080/"
        },
        "id": "HlAlk_bFoIoe",
        "outputId": "ee421c32-44d6-492f-e71b-459e2283a7ab"
      },
      "execution_count": 5,
      "outputs": [
        {
          "output_type": "stream",
          "name": "stdout",
          "text": [
            "['Unnamed: 0', 'home_team', 'away_team', 'home_score', 'away_score', 'tournament', 'city', 'country', 'neutral']\n"
          ]
        }
      ]
    },
    {
      "cell_type": "markdown",
      "source": [
        "To get the contents of a specific column in the `Game_all` DataFrame, you can use indexing with the specific column name. This will print the contents of the specified column."
      ],
      "metadata": {
        "id": "PhzN1fCmpRuY"
      }
    },
    {
      "cell_type": "code",
      "source": [
        "column_contents = Game_all[\"home_team\"]\n",
        "print(column_contents)"
      ],
      "metadata": {
        "colab": {
          "base_uri": "https://localhost:8080/"
        },
        "id": "OVDANdtSoegr",
        "outputId": "2123110a-3e2e-4e1c-98eb-b5c2733bc828"
      },
      "execution_count": 7,
      "outputs": [
        {
          "output_type": "stream",
          "name": "stdout",
          "text": [
            "0           Gabon\n",
            "1           Sudan\n",
            "2          Rwanda\n",
            "3      Mauritania\n",
            "4         Algeria\n",
            "          ...    \n",
            "736        Norway\n",
            "737        Sweden\n",
            "738        Kosovo\n",
            "739        Greece\n",
            "740          Fiji\n",
            "Name: home_team, Length: 741, dtype: object\n"
          ]
        }
      ]
    },
    {
      "cell_type": "markdown",
      "source": [
        "To remove duplicates from a column in the `Game_all` DataFrame, you can use the `drop_duplicates()` method of the DataFrame. This will print the unique values of the specified column."
      ],
      "metadata": {
        "id": "eXP6t7J3p0QR"
      }
    },
    {
      "cell_type": "code",
      "source": [
        "unique_column_contents = Game_all[\"home_team\"].drop_duplicates()\n",
        "print(unique_column_contents)"
      ],
      "metadata": {
        "colab": {
          "base_uri": "https://localhost:8080/"
        },
        "id": "CGDWjnTfozWR",
        "outputId": "e8065390-9d0c-4075-b448-79634a92aa7f"
      },
      "execution_count": 8,
      "outputs": [
        {
          "output_type": "stream",
          "name": "stdout",
          "text": [
            "0                  Gabon\n",
            "1                  Sudan\n",
            "2                 Rwanda\n",
            "3             Mauritania\n",
            "4                Algeria\n",
            "             ...        \n",
            "570          Afghanistan\n",
            "574              Myanmar\n",
            "597              Mapuche\n",
            "599               Aymara\n",
            "603    Brunei Darussalam\n",
            "Name: home_team, Length: 206, dtype: object\n"
          ]
        }
      ]
    },
    {
      "cell_type": "markdown",
      "source": [
        "Automatically extract the unique team names from both the 'home_team' and 'away_team' columns of the `Game_all` DataFrame and use them to create the `Teams` list.\n",
        "This will create a new DataFrame called `Game_used` that contains only rows where either the 'home_team' or 'away_team' column contains a value that is present in the `Teams` list. The `Teams` list is created by concatenating the unique values of the 'home_team' and 'away_team' columns, removing duplicates using the `set()` function, and converting the resulting set to a list using the `list()` function.To check the size or dimension of the `Teams` list, you can use the `len()` function.\n",
        "This will print the number of elements in the `Teams` list, which corresponds to the number of unique team names."
      ],
      "metadata": {
        "id": "OonDYL3ksdpu"
      }
    },
    {
      "cell_type": "code",
      "source": [
        "home_teams = Game_all['home_team'].unique().tolist()\n",
        "away_teams = Game_all['away_team'].unique().tolist()\n",
        "Teams = list(set(home_teams + away_teams))\n",
        "Game_used = Game_all[Game_all['home_team'].isin(Teams) | Game_all['away_team'].isin(Teams)]\n",
        "print(Teams)\n",
        "print(len(Teams))"
      ],
      "metadata": {
        "colab": {
          "base_uri": "https://localhost:8080/"
        },
        "id": "c7w5UpYnqYY3",
        "outputId": "4e847a5c-709d-4b52-9c3e-708d963ec2de"
      },
      "execution_count": 18,
      "outputs": [
        {
          "output_type": "stream",
          "name": "stdout",
          "text": [
            "['Guinea-Bissau', 'Luxembourg', 'Senegal', 'Brunei', 'Malaysia', 'Fiji', 'Azerbaijan', 'Wales', 'Jordan', 'Kuwait', 'New Zealand', 'Andorra', 'Kyrgyzstan', 'Iraq', 'Ecuador', 'Philippines', 'Morocco', 'South Africa', 'Palestine', 'El Salvador', 'Northern Ireland', 'Gambia', 'Portugal', 'Mauritius', 'Republic of Ireland', 'Togo', 'Cyprus', 'Myanmar', 'Turks and Caicos Islands', 'Saudi Arabia', 'China PR', 'Saint Martin', 'Timor-Leste', 'Bahrain', 'Slovenia', 'Cook Islands', 'Ukraine', 'Burundi', 'Greece', 'Sweden', 'DR Congo', 'Bangladesh', 'Venezuela', 'Equatorial Guinea', 'Tunisia', 'Somalia', 'Yemen', 'Ivory Coast', 'Zambia', 'Sierra Leone', 'Laos', 'Dominica', 'Netherlands', 'Cayman Islands', 'Hong Kong', 'Antigua and Barbuda', 'Rwanda', 'Sint Maarten', 'Grenada', 'Indonesia', 'Finland', 'Cape Verde', 'Papua New Guinea', 'Gibraltar', 'Norway', 'United States', 'Namibia', 'Uganda', 'Scotland', 'Martinique', 'Israel', 'Peru', 'Aruba', 'Slovakia', 'Trinidad and Tobago', 'England', 'Croatia', 'Dominican Republic', 'Montenegro', 'Eswatini', 'Seychelles', 'Turkmenistan', 'Chad', 'Romania', 'India', 'Brunei Darussalam', 'Belgium', 'Djibouti', 'United States Virgin Islands', 'Switzerland', 'Libya', 'Australia', 'Mauritania', 'North Macedonia', 'Nigeria', 'Colombia', 'Armenia', 'Malawi', 'Bosnia and Herzegovina', 'Honduras', 'Aymara', 'Burkina Faso', 'Curaçao', 'Haiti', 'South Korea', 'Guinea', 'Guatemala', 'Uruguay', 'Faroe Islands', 'Nepal', 'Georgia', 'Panama', 'Guyana', 'Lithuania', 'Mali', 'Bermuda', 'Congo', 'Austria', 'Bahamas', 'Guadeloupe', 'Niger', 'Chile', 'Maldives', 'Montserrat', 'Tanzania', 'Jamaica', 'Lebanon', 'Moldova', 'Barbados', 'Tahiti', 'Bolivia', 'Italy', 'Egypt', 'Uzbekistan', 'Germany', 'Turkey', 'Czech Republic', 'Algeria', 'Vietnam', 'Mexico', 'Brazil', 'Thailand', 'Malta', 'Denmark', 'Iran', 'New Caledonia', 'Comoros', 'Kosovo', 'San Marino', 'Liechtenstein', 'British Virgin Islands', 'Albania', 'Solomon Islands', 'Mongolia', 'Ghana', 'Sudan', 'Mapuche', 'South Sudan', 'Kazakhstan', 'Gabon', 'Mozambique', 'Sri Lanka', 'Cambodia', 'Belize', 'Cuba', 'Singapore', 'Botswana', 'Biafra', 'Central African Republic', 'São Tomé and Príncipe', 'Lesotho', 'Nicaragua', 'Belarus', 'Matabeleland', 'Oman', 'Cameroon', 'Ethiopia', 'French Guiana', 'Estonia', 'Angola', 'Liberia', 'Saint Vincent and the Grenadines', 'Serbia', 'Benin', 'Poland', 'Bonaire', 'Bulgaria', 'Afghanistan', 'United Arab Emirates', 'Hungary', 'Madagascar', 'Costa Rica', 'Yoruba Nation', 'Argentina', 'Paraguay', 'Saint Lucia', 'Puerto Rico', 'Iceland', 'Syria', 'Spain', 'Qatar', 'Zimbabwe', 'Anguilla', 'Canada', 'Latvia', 'France', 'Vanuatu', 'Maule Sur', 'Suriname', 'Tajikistan', 'Japan', 'Saint Kitts and Nevis']\n",
            "212\n"
          ]
        }
      ]
    },
    {
      "cell_type": "code",
      "source": [
        "print(Game_used)"
      ],
      "metadata": {
        "colab": {
          "base_uri": "https://localhost:8080/"
        },
        "id": "38nvuM3fsD8M",
        "outputId": "901aaeae-2f69-4e35-f8ba-d08ba816d32f"
      },
      "execution_count": 14,
      "outputs": [
        {
          "output_type": "stream",
          "name": "stdout",
          "text": [
            "     Unnamed: 0   home_team         away_team  home_score  away_score  \\\n",
            "0    2022-01-02       Gabon      Burkina Faso         0.0         3.0   \n",
            "1    2022-01-02       Sudan          Zimbabwe         0.0         0.0   \n",
            "2    2022-01-03      Rwanda            Guinea         3.0         0.0   \n",
            "3    2022-01-04  Mauritania             Gabon         1.0         1.0   \n",
            "4    2022-01-05     Algeria             Ghana         3.0         0.0   \n",
            "..          ...         ...               ...         ...         ...   \n",
            "736  2022-09-27      Norway            Serbia         0.0         2.0   \n",
            "737  2022-09-27      Sweden          Slovenia         1.0         1.0   \n",
            "738  2022-09-27      Kosovo            Cyprus         5.0         1.0   \n",
            "739  2022-09-27      Greece  Northern Ireland         3.0         1.0   \n",
            "740  2022-09-30        Fiji   Solomon Islands         NaN         NaN   \n",
            "\n",
            "                   tournament        city               country  neutral  \n",
            "0                    Friendly       Dubai  United Arab Emirates     True  \n",
            "1                    Friendly     Yaoundé              Cameroon     True  \n",
            "2                    Friendly      Kigali                Rwanda    False  \n",
            "3                    Friendly       Dubai  United Arab Emirates     True  \n",
            "4                    Friendly   Al Rayyan                 Qatar     True  \n",
            "..                        ...         ...                   ...      ...  \n",
            "736       UEFA Nations League        Oslo                Norway    False  \n",
            "737       UEFA Nations League   Stockholm                Sweden    False  \n",
            "738       UEFA Nations League    Pristina                Kosovo    False  \n",
            "739       UEFA Nations League      Athens                Greece    False  \n",
            "740  MSG Prime Minister's Cup  Luganville               Vanuatu     True  \n",
            "\n",
            "[741 rows x 9 columns]\n"
          ]
        }
      ]
    },
    {
      "cell_type": "markdown",
      "source": [
        "To make sure that every team that is going to the World Cup is present in the training set, you can compare the list of teams in the training set with the list of World Cup teams.\n",
        "This code extracts the unique team names from both the 'home_team' and 'away_team' columns of the `Game_all` DataFrame and concatenates them into a single list called `training_teams`. It then compares this list with the list of World Cup teams using the `set()` function and the `-` operator to find any missing teams. If there are no missing teams, it prints a message indicating that all World Cup teams are present in the training set. Otherwise, it prints a message listing the missing teams."
      ],
      "metadata": {
        "id": "OQ_mgT95tgDU"
      }
    },
    {
      "cell_type": "code",
      "source": [
        "training_teams = Game_all['home_team'].unique().tolist() + Game_all['away_team'].unique().tolist()\n",
        "missing_teams = set(Teams) - set(training_teams)\n",
        "\n",
        "if len(missing_teams) == 0:\n",
        "    print(\"All World Cup teams are present in the training set.\")\n",
        "else:\n",
        "    print(\"The following World Cup teams are missing from the training set:\")\n",
        "    print(missing_teams)\n"
      ],
      "metadata": {
        "colab": {
          "base_uri": "https://localhost:8080/"
        },
        "id": "nHHdX1bPs6ue",
        "outputId": "99c84205-8e1d-40a4-ad1e-4df7e3cb757c"
      },
      "execution_count": 19,
      "outputs": [
        {
          "output_type": "stream",
          "name": "stdout",
          "text": [
            "All World Cup teams are present in the training set.\n"
          ]
        }
      ]
    },
    {
      "cell_type": "markdown",
      "source": [
        "## Training the set"
      ],
      "metadata": {
        "id": "mzJD671Pt4Ta"
      }
    },
    {
      "cell_type": "code",
      "source": [],
      "metadata": {
        "id": "LGxvoqg9uCER"
      },
      "execution_count": null,
      "outputs": []
    }
  ]
}